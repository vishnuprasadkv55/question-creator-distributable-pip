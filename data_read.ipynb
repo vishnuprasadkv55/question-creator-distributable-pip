{
 "cells": [
  {
   "cell_type": "code",
   "execution_count": 13,
   "metadata": {},
   "outputs": [],
   "source": [
    "import pandas\n",
    "import os\n",
    "import json"
   ]
  },
  {
   "cell_type": "code",
   "execution_count": 15,
   "metadata": {},
   "outputs": [
    {
     "name": "stdout",
     "output_type": "stream",
     "text": [
      "C:\\Users\\vishnu.prasad\\Desktop\\question-validator-backend\\Sent\\Sent\\data_Example_set_unfiltered.xlsx\n"
     ]
    }
   ],
   "source": [
    "print(os.getcwd()+ '\\Sent\\Sent\\data_Example_set_unfiltered.xlsx')"
   ]
  },
  {
   "cell_type": "code",
   "execution_count": 19,
   "metadata": {},
   "outputs": [],
   "source": [
    "    excel_data_fragment = pandas.read_excel(os.getcwd()+ '\\Sent\\Sent\\data_Example_set_unfiltered.xlsx')"
   ]
  },
  {
   "cell_type": "code",
   "execution_count": 22,
   "metadata": {},
   "outputs": [],
   "source": [
    "json_str = excel_data_fragment.to_json(orient='records')"
   ]
  },
  {
   "cell_type": "code",
   "execution_count": 23,
   "metadata": {},
   "outputs": [],
   "source": [
    "with open(\"extracted_data.json\", \"w\") as fp:\n",
    "    json.dump(json_str, fp)"
   ]
  },
  {
   "cell_type": "code",
   "execution_count": 26,
   "metadata": {},
   "outputs": [],
   "source": [
    "json_object = json.loads(json_str)"
   ]
  },
  {
   "cell_type": "code",
   "execution_count": 27,
   "metadata": {},
   "outputs": [
    {
     "name": "stdout",
     "output_type": "stream",
     "text": [
      "{'instructions': None, 'question': 'For which of the following values of k is [[[ gmatfree-include141592-PS-image034.png ]]] NOT an integer?', 'answer': 3, 'explanation': \"ExplanationThis question can be solved quickly by trying answer\\nchoices. We might as well start with 3, since it isn't a factor of 20 and will\\ngo in the denominator. Indeed, [[[ gmatfree-include141592-PS-image036.png ]]]is [[[ gmatfree-include141592-PS-image038.png ]]],\\nso it is not an integer. \\n\\nThe correct answer is (C).\", 'Section(Subject)': 'Arithmetic', 'SubSection(SubSubject)': None, 'Property.Audio_Video': None, 'Property.Text': None, 'Category 1': None, 'Category 2': None, 'Category 3': None, 'Category 4': None, 'category 5': None, 'Sub Category 1': None, 'Sub Category 2': None, 'Sub Category 3': None, 'Complexity Level\\n(1-200)': None, 'Answer A': None}\n"
     ]
    }
   ],
   "source": [
    "print(json_object[0])"
   ]
  },
  {
   "cell_type": "code",
   "execution_count": null,
   "metadata": {},
   "outputs": [],
   "source": []
  }
 ],
 "metadata": {
  "kernelspec": {
   "display_name": "Python 3",
   "language": "python",
   "name": "python3"
  },
  "language_info": {
   "codemirror_mode": {
    "name": "ipython",
    "version": 3
   },
   "file_extension": ".py",
   "mimetype": "text/x-python",
   "name": "python",
   "nbconvert_exporter": "python",
   "pygments_lexer": "ipython3",
   "version": "3.8.7"
  }
 },
 "nbformat": 4,
 "nbformat_minor": 4
}
